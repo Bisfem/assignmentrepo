{
 "cells": [
  {
   "cell_type": "markdown",
   "id": "ae424f3e-6a2e-495f-b86a-1f2849ac6945",
   "metadata": {},
   "source": [
    "# Data Science Tools and Ecosystem"
   ]
  },
  {
   "cell_type": "markdown",
   "id": "6a7b7f6c-dca0-4e4a-842d-65887a38c25a",
   "metadata": {},
   "source": [
    "In this notebook, Data Science Tools and Ecosystem are summarized."
   ]
  },
  {
   "cell_type": "markdown",
   "id": "d3a9543e-abc6-4b01-ac62-4fecb8002f47",
   "metadata": {},
   "source": [
    "**Objectives:**\n",
    "* List popular languages for Data Science\n",
    "* List common libraries used in Data Science\n",
    "* List Data Science tools\n",
    "* Perform arithmetic"
   ]
  },
  {
   "cell_type": "markdown",
   "id": "0b093bd6-1c4d-4575-9355-097533b6f051",
   "metadata": {},
   "source": [
    "Some of the popular languages that Data Scientists use are:\n",
    "1. Python\n",
    "2. R\n",
    "3. C++\n",
    "4. Java"
   ]
  },
  {
   "cell_type": "markdown",
   "id": "2a1bcd6d-2ef0-41f0-9723-63a15015d7ab",
   "metadata": {},
   "source": [
    "Some of the commonly used libraries used by Data Scientists include:\n",
    "1. Pandas\n",
    "2. Matplotlib\n",
    "3. Seaborn\n",
    "4. Plotly"
   ]
  },
  {
   "cell_type": "markdown",
   "id": "58f14920-4ab1-47cf-b627-5559de3cdd65",
   "metadata": {},
   "source": [
    "| Data Science Tools |\n",
    "|--------------------|\n",
    "| Python |\n",
    "| R |\n",
    "| Tableau |"
   ]
  },
  {
   "cell_type": "markdown",
   "id": "1af91133-1fb0-441f-a6f8-2dd33d28c270",
   "metadata": {},
   "source": [
    "### Below are a few examples of evaluating arithmetic expressions in Python"
   ]
  },
  {
   "cell_type": "code",
   "execution_count": 9,
   "id": "4d63bc80-543b-4b41-8054-78c1b16b0b1a",
   "metadata": {},
   "outputs": [
    {
     "data": {
      "text/plain": [
       "17"
      ]
     },
     "execution_count": 9,
     "metadata": {},
     "output_type": "execute_result"
    }
   ],
   "source": [
    "# This a simple arithmetic expression to multiply then add integers\n",
    "(3*4)+5"
   ]
  },
  {
   "cell_type": "code",
   "execution_count": 23,
   "id": "59bf4bea-13d4-4e35-9c38-ec53dec5c6ea",
   "metadata": {},
   "outputs": [
    {
     "name": "stdin",
     "output_type": "stream",
     "text": [
      "Enter the minutes =  200\n"
     ]
    }
   ],
   "source": [
    "# This will convert 200 minutes to hours by diving by 60\n",
    "min=float(input(\"Enter the minutes = \"))\n",
    "hours=min/60"
   ]
  },
  {
   "cell_type": "markdown",
   "id": "f7fa67c9-842d-4655-a4a8-849305f4e2c3",
   "metadata": {},
   "source": [
    "## Author\n",
    "Anonymous"
   ]
  }
 ],
 "metadata": {
  "kernelspec": {
   "display_name": "Python 3 (ipykernel)",
   "language": "python",
   "name": "python3"
  },
  "language_info": {
   "codemirror_mode": {
    "name": "ipython",
    "version": 3
   },
   "file_extension": ".py",
   "mimetype": "text/x-python",
   "name": "python",
   "nbconvert_exporter": "python",
   "pygments_lexer": "ipython3",
   "version": "3.12.3"
  }
 },
 "nbformat": 4,
 "nbformat_minor": 5
}
